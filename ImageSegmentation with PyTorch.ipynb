{
  "nbformat": 4,
  "nbformat_minor": 5,
  "metadata": {
    "kernelspec": {
      "display_name": "Python 3",
      "language": "python",
      "name": "python3"
    },
    "language_info": {
      "codemirror_mode": {
        "name": "ipython",
        "version": 3
      },
      "file_extension": ".py",
      "mimetype": "text/x-python",
      "name": "python",
      "nbconvert_exporter": "python",
      "pygments_lexer": "ipython3",
      "version": "3.9.5"
    },
    "colab": {
      "name": "ImageSegmentation with PyTorch.ipynb",
      "provenance": [],
      "collapsed_sections": []
    },
    "accelerator": "GPU",
    "widgets": {
      "application/vnd.jupyter.widget-state+json": {
        "2400424d21a547cf955287c961dfaf52": {
          "model_module": "@jupyter-widgets/controls",
          "model_name": "HBoxModel",
          "model_module_version": "1.5.0",
          "state": {
            "_dom_classes": [],
            "_model_module": "@jupyter-widgets/controls",
            "_model_module_version": "1.5.0",
            "_model_name": "HBoxModel",
            "_view_count": null,
            "_view_module": "@jupyter-widgets/controls",
            "_view_module_version": "1.5.0",
            "_view_name": "HBoxView",
            "box_style": "",
            "children": [
              "IPY_MODEL_0336869d768d45619fdee19ae3dd3efc",
              "IPY_MODEL_1516d34095944fa2937778f032bab468",
              "IPY_MODEL_acb8eb37802d4dd38321061ed517a12f"
            ],
            "layout": "IPY_MODEL_e6f605ce33b74aeab8b5d5a344c1695b"
          }
        },
        "0336869d768d45619fdee19ae3dd3efc": {
          "model_module": "@jupyter-widgets/controls",
          "model_name": "HTMLModel",
          "model_module_version": "1.5.0",
          "state": {
            "_dom_classes": [],
            "_model_module": "@jupyter-widgets/controls",
            "_model_module_version": "1.5.0",
            "_model_name": "HTMLModel",
            "_view_count": null,
            "_view_module": "@jupyter-widgets/controls",
            "_view_module_version": "1.5.0",
            "_view_name": "HTMLView",
            "description": "",
            "description_tooltip": null,
            "layout": "IPY_MODEL_d31adb9c07494901ac432ca23743be9d",
            "placeholder": "​",
            "style": "IPY_MODEL_91aa56b23d5948c18dd71a081493f227",
            "value": "100%"
          }
        },
        "1516d34095944fa2937778f032bab468": {
          "model_module": "@jupyter-widgets/controls",
          "model_name": "FloatProgressModel",
          "model_module_version": "1.5.0",
          "state": {
            "_dom_classes": [],
            "_model_module": "@jupyter-widgets/controls",
            "_model_module_version": "1.5.0",
            "_model_name": "FloatProgressModel",
            "_view_count": null,
            "_view_module": "@jupyter-widgets/controls",
            "_view_module_version": "1.5.0",
            "_view_name": "ProgressView",
            "bar_style": "success",
            "description": "",
            "description_tooltip": null,
            "layout": "IPY_MODEL_92b2582cf9fd409dbbaa0c6ce429ee70",
            "max": 21383997,
            "min": 0,
            "orientation": "horizontal",
            "style": "IPY_MODEL_60848e03d11d4401a660b78382554678",
            "value": 21383997
          }
        },
        "acb8eb37802d4dd38321061ed517a12f": {
          "model_module": "@jupyter-widgets/controls",
          "model_name": "HTMLModel",
          "model_module_version": "1.5.0",
          "state": {
            "_dom_classes": [],
            "_model_module": "@jupyter-widgets/controls",
            "_model_module_version": "1.5.0",
            "_model_name": "HTMLModel",
            "_view_count": null,
            "_view_module": "@jupyter-widgets/controls",
            "_view_module_version": "1.5.0",
            "_view_name": "HTMLView",
            "description": "",
            "description_tooltip": null,
            "layout": "IPY_MODEL_59e09723f4d8407790b61fcc457cb26a",
            "placeholder": "​",
            "style": "IPY_MODEL_64fc4ae9616544dda4a04b0918a80baf",
            "value": " 20.4M/20.4M [00:03&lt;00:00, 13.9MB/s]"
          }
        },
        "e6f605ce33b74aeab8b5d5a344c1695b": {
          "model_module": "@jupyter-widgets/base",
          "model_name": "LayoutModel",
          "model_module_version": "1.2.0",
          "state": {
            "_model_module": "@jupyter-widgets/base",
            "_model_module_version": "1.2.0",
            "_model_name": "LayoutModel",
            "_view_count": null,
            "_view_module": "@jupyter-widgets/base",
            "_view_module_version": "1.2.0",
            "_view_name": "LayoutView",
            "align_content": null,
            "align_items": null,
            "align_self": null,
            "border": null,
            "bottom": null,
            "display": null,
            "flex": null,
            "flex_flow": null,
            "grid_area": null,
            "grid_auto_columns": null,
            "grid_auto_flow": null,
            "grid_auto_rows": null,
            "grid_column": null,
            "grid_gap": null,
            "grid_row": null,
            "grid_template_areas": null,
            "grid_template_columns": null,
            "grid_template_rows": null,
            "height": null,
            "justify_content": null,
            "justify_items": null,
            "left": null,
            "margin": null,
            "max_height": null,
            "max_width": null,
            "min_height": null,
            "min_width": null,
            "object_fit": null,
            "object_position": null,
            "order": null,
            "overflow": null,
            "overflow_x": null,
            "overflow_y": null,
            "padding": null,
            "right": null,
            "top": null,
            "visibility": null,
            "width": null
          }
        },
        "d31adb9c07494901ac432ca23743be9d": {
          "model_module": "@jupyter-widgets/base",
          "model_name": "LayoutModel",
          "model_module_version": "1.2.0",
          "state": {
            "_model_module": "@jupyter-widgets/base",
            "_model_module_version": "1.2.0",
            "_model_name": "LayoutModel",
            "_view_count": null,
            "_view_module": "@jupyter-widgets/base",
            "_view_module_version": "1.2.0",
            "_view_name": "LayoutView",
            "align_content": null,
            "align_items": null,
            "align_self": null,
            "border": null,
            "bottom": null,
            "display": null,
            "flex": null,
            "flex_flow": null,
            "grid_area": null,
            "grid_auto_columns": null,
            "grid_auto_flow": null,
            "grid_auto_rows": null,
            "grid_column": null,
            "grid_gap": null,
            "grid_row": null,
            "grid_template_areas": null,
            "grid_template_columns": null,
            "grid_template_rows": null,
            "height": null,
            "justify_content": null,
            "justify_items": null,
            "left": null,
            "margin": null,
            "max_height": null,
            "max_width": null,
            "min_height": null,
            "min_width": null,
            "object_fit": null,
            "object_position": null,
            "order": null,
            "overflow": null,
            "overflow_x": null,
            "overflow_y": null,
            "padding": null,
            "right": null,
            "top": null,
            "visibility": null,
            "width": null
          }
        },
        "91aa56b23d5948c18dd71a081493f227": {
          "model_module": "@jupyter-widgets/controls",
          "model_name": "DescriptionStyleModel",
          "model_module_version": "1.5.0",
          "state": {
            "_model_module": "@jupyter-widgets/controls",
            "_model_module_version": "1.5.0",
            "_model_name": "DescriptionStyleModel",
            "_view_count": null,
            "_view_module": "@jupyter-widgets/base",
            "_view_module_version": "1.2.0",
            "_view_name": "StyleView",
            "description_width": ""
          }
        },
        "92b2582cf9fd409dbbaa0c6ce429ee70": {
          "model_module": "@jupyter-widgets/base",
          "model_name": "LayoutModel",
          "model_module_version": "1.2.0",
          "state": {
            "_model_module": "@jupyter-widgets/base",
            "_model_module_version": "1.2.0",
            "_model_name": "LayoutModel",
            "_view_count": null,
            "_view_module": "@jupyter-widgets/base",
            "_view_module_version": "1.2.0",
            "_view_name": "LayoutView",
            "align_content": null,
            "align_items": null,
            "align_self": null,
            "border": null,
            "bottom": null,
            "display": null,
            "flex": null,
            "flex_flow": null,
            "grid_area": null,
            "grid_auto_columns": null,
            "grid_auto_flow": null,
            "grid_auto_rows": null,
            "grid_column": null,
            "grid_gap": null,
            "grid_row": null,
            "grid_template_areas": null,
            "grid_template_columns": null,
            "grid_template_rows": null,
            "height": null,
            "justify_content": null,
            "justify_items": null,
            "left": null,
            "margin": null,
            "max_height": null,
            "max_width": null,
            "min_height": null,
            "min_width": null,
            "object_fit": null,
            "object_position": null,
            "order": null,
            "overflow": null,
            "overflow_x": null,
            "overflow_y": null,
            "padding": null,
            "right": null,
            "top": null,
            "visibility": null,
            "width": null
          }
        },
        "60848e03d11d4401a660b78382554678": {
          "model_module": "@jupyter-widgets/controls",
          "model_name": "ProgressStyleModel",
          "model_module_version": "1.5.0",
          "state": {
            "_model_module": "@jupyter-widgets/controls",
            "_model_module_version": "1.5.0",
            "_model_name": "ProgressStyleModel",
            "_view_count": null,
            "_view_module": "@jupyter-widgets/base",
            "_view_module_version": "1.2.0",
            "_view_name": "StyleView",
            "bar_color": null,
            "description_width": ""
          }
        },
        "59e09723f4d8407790b61fcc457cb26a": {
          "model_module": "@jupyter-widgets/base",
          "model_name": "LayoutModel",
          "model_module_version": "1.2.0",
          "state": {
            "_model_module": "@jupyter-widgets/base",
            "_model_module_version": "1.2.0",
            "_model_name": "LayoutModel",
            "_view_count": null,
            "_view_module": "@jupyter-widgets/base",
            "_view_module_version": "1.2.0",
            "_view_name": "LayoutView",
            "align_content": null,
            "align_items": null,
            "align_self": null,
            "border": null,
            "bottom": null,
            "display": null,
            "flex": null,
            "flex_flow": null,
            "grid_area": null,
            "grid_auto_columns": null,
            "grid_auto_flow": null,
            "grid_auto_rows": null,
            "grid_column": null,
            "grid_gap": null,
            "grid_row": null,
            "grid_template_areas": null,
            "grid_template_columns": null,
            "grid_template_rows": null,
            "height": null,
            "justify_content": null,
            "justify_items": null,
            "left": null,
            "margin": null,
            "max_height": null,
            "max_width": null,
            "min_height": null,
            "min_width": null,
            "object_fit": null,
            "object_position": null,
            "order": null,
            "overflow": null,
            "overflow_x": null,
            "overflow_y": null,
            "padding": null,
            "right": null,
            "top": null,
            "visibility": null,
            "width": null
          }
        },
        "64fc4ae9616544dda4a04b0918a80baf": {
          "model_module": "@jupyter-widgets/controls",
          "model_name": "DescriptionStyleModel",
          "model_module_version": "1.5.0",
          "state": {
            "_model_module": "@jupyter-widgets/controls",
            "_model_module_version": "1.5.0",
            "_model_name": "DescriptionStyleModel",
            "_view_count": null,
            "_view_module": "@jupyter-widgets/base",
            "_view_module_version": "1.2.0",
            "_view_name": "StyleView",
            "description_width": ""
          }
        }
      }
    }
  },
  "cells": [
    {
      "cell_type": "code",
      "metadata": {
        "id": "Trj2m5ohqPY8"
      },
      "source": [
        "!pip install segmentation-models-pytorch"
      ],
      "id": "Trj2m5ohqPY8",
      "execution_count": null,
      "outputs": []
    },
    {
      "cell_type": "code",
      "source": [
        "# Download Dataset\n",
        "!git clone   https://github.com/Moezwalha/Human-Image-Segmentation.git"
      ],
      "metadata": {
        "colab": {
          "base_uri": "https://localhost:8080/"
        },
        "id": "UzY__HATYxBf",
        "outputId": "eec52249-069b-4684-a8a8-7e0e79a1c806"
      },
      "id": "UzY__HATYxBf",
      "execution_count": 2,
      "outputs": [
        {
          "output_type": "stream",
          "name": "stdout",
          "text": [
            "Cloning into 'Human-Image-Segmentation'...\n",
            "remote: Enumerating objects: 654, done.\u001b[K\n",
            "remote: Counting objects: 100% (19/19), done.\u001b[K\n",
            "remote: Compressing objects: 100% (18/18), done.\u001b[K\n",
            "remote: Total 654 (delta 4), reused 0 (delta 0), pack-reused 635\u001b[K\n",
            "Receiving objects: 100% (654/654), 13.62 MiB | 11.82 MiB/s, done.\n",
            "Resolving deltas: 100% (15/15), done.\n"
          ]
        }
      ]
    },
    {
      "cell_type": "code",
      "source": [
        "from importlib.machinery import SourceFileLoader \n",
        "# imports the module from the given path\n",
        "helper = SourceFileLoader(\"helper\",\"/content/Human-Image-Segmentation/Dataset/helper.py\").load_module()"
      ],
      "metadata": {
        "id": "Tz7MUFyjZ4Mq"
      },
      "id": "Tz7MUFyjZ4Mq",
      "execution_count": 3,
      "outputs": []
    },
    {
      "cell_type": "code",
      "metadata": {
        "id": "unlikely-winner"
      },
      "source": [
        "# Some common imports\n",
        "import torch \n",
        "import cv2\n",
        "\n",
        "import numpy as np \n",
        "import pandas as pd\n",
        "import matplotlib.pyplot as plt \n",
        "from sklearn.model_selection import train_test_split\n",
        "from tqdm import tqdm\n",
        "from helper import show_image\n",
        "import albumentations as A\n",
        "from torch.utils.data import Dataset\n",
        "from google.colab.patches import cv2_imshow\n",
        "from torch.utils.data import DataLoader"
      ],
      "id": "unlikely-winner",
      "execution_count": 4,
      "outputs": []
    },
    {
      "cell_type": "markdown",
      "source": [
        "#Part 1: Dataset"
      ],
      "metadata": {
        "id": "yX4rW2JGOZ_8"
      },
      "id": "yX4rW2JGOZ_8"
    },
    {
      "cell_type": "code",
      "metadata": {
        "id": "cooked-stranger",
        "colab": {
          "base_uri": "https://localhost:8080/",
          "height": 206
        },
        "outputId": "8e91bc22-75df-418e-9850-8305491d7ffc"
      },
      "source": [
        "# Load data\n",
        "CSV_FILE = \"/content/Human-Image-Segmentation/Dataset/data.txt\"\n",
        "df = pd.read_csv(CSV_FILE)\n",
        "df.head()"
      ],
      "id": "cooked-stranger",
      "execution_count": 5,
      "outputs": [
        {
          "output_type": "execute_result",
          "data": {
            "text/plain": [
              "                                               masks  \\\n",
              "0  Human-Image-Segmentation/Dataset/Ground_Truth/...   \n",
              "1  Human-Image-Segmentation/Dataset/Ground_Truth/...   \n",
              "2  Human-Image-Segmentation/Dataset/Ground_Truth/...   \n",
              "3  Human-Image-Segmentation/Dataset/Ground_Truth/...   \n",
              "4  Human-Image-Segmentation/Dataset/Ground_Truth/...   \n",
              "\n",
              "                                              images  \n",
              "0  Human-Image-Segmentation/Dataset/Training_Imag...  \n",
              "1  Human-Image-Segmentation/Dataset/Training_Imag...  \n",
              "2  Human-Image-Segmentation/Dataset/Training_Imag...  \n",
              "3  Human-Image-Segmentation/Dataset/Training_Imag...  \n",
              "4  Human-Image-Segmentation/Dataset/Training_Imag...  "
            ],
            "text/html": [
              "\n",
              "  <div id=\"df-57ba0430-2276-4371-a330-e373560fb989\">\n",
              "    <div class=\"colab-df-container\">\n",
              "      <div>\n",
              "<style scoped>\n",
              "    .dataframe tbody tr th:only-of-type {\n",
              "        vertical-align: middle;\n",
              "    }\n",
              "\n",
              "    .dataframe tbody tr th {\n",
              "        vertical-align: top;\n",
              "    }\n",
              "\n",
              "    .dataframe thead th {\n",
              "        text-align: right;\n",
              "    }\n",
              "</style>\n",
              "<table border=\"1\" class=\"dataframe\">\n",
              "  <thead>\n",
              "    <tr style=\"text-align: right;\">\n",
              "      <th></th>\n",
              "      <th>masks</th>\n",
              "      <th>images</th>\n",
              "    </tr>\n",
              "  </thead>\n",
              "  <tbody>\n",
              "    <tr>\n",
              "      <th>0</th>\n",
              "      <td>Human-Image-Segmentation/Dataset/Ground_Truth/...</td>\n",
              "      <td>Human-Image-Segmentation/Dataset/Training_Imag...</td>\n",
              "    </tr>\n",
              "    <tr>\n",
              "      <th>1</th>\n",
              "      <td>Human-Image-Segmentation/Dataset/Ground_Truth/...</td>\n",
              "      <td>Human-Image-Segmentation/Dataset/Training_Imag...</td>\n",
              "    </tr>\n",
              "    <tr>\n",
              "      <th>2</th>\n",
              "      <td>Human-Image-Segmentation/Dataset/Ground_Truth/...</td>\n",
              "      <td>Human-Image-Segmentation/Dataset/Training_Imag...</td>\n",
              "    </tr>\n",
              "    <tr>\n",
              "      <th>3</th>\n",
              "      <td>Human-Image-Segmentation/Dataset/Ground_Truth/...</td>\n",
              "      <td>Human-Image-Segmentation/Dataset/Training_Imag...</td>\n",
              "    </tr>\n",
              "    <tr>\n",
              "      <th>4</th>\n",
              "      <td>Human-Image-Segmentation/Dataset/Ground_Truth/...</td>\n",
              "      <td>Human-Image-Segmentation/Dataset/Training_Imag...</td>\n",
              "    </tr>\n",
              "  </tbody>\n",
              "</table>\n",
              "</div>\n",
              "      <button class=\"colab-df-convert\" onclick=\"convertToInteractive('df-57ba0430-2276-4371-a330-e373560fb989')\"\n",
              "              title=\"Convert this dataframe to an interactive table.\"\n",
              "              style=\"display:none;\">\n",
              "        \n",
              "  <svg xmlns=\"http://www.w3.org/2000/svg\" height=\"24px\"viewBox=\"0 0 24 24\"\n",
              "       width=\"24px\">\n",
              "    <path d=\"M0 0h24v24H0V0z\" fill=\"none\"/>\n",
              "    <path d=\"M18.56 5.44l.94 2.06.94-2.06 2.06-.94-2.06-.94-.94-2.06-.94 2.06-2.06.94zm-11 1L8.5 8.5l.94-2.06 2.06-.94-2.06-.94L8.5 2.5l-.94 2.06-2.06.94zm10 10l.94 2.06.94-2.06 2.06-.94-2.06-.94-.94-2.06-.94 2.06-2.06.94z\"/><path d=\"M17.41 7.96l-1.37-1.37c-.4-.4-.92-.59-1.43-.59-.52 0-1.04.2-1.43.59L10.3 9.45l-7.72 7.72c-.78.78-.78 2.05 0 2.83L4 21.41c.39.39.9.59 1.41.59.51 0 1.02-.2 1.41-.59l7.78-7.78 2.81-2.81c.8-.78.8-2.07 0-2.86zM5.41 20L4 18.59l7.72-7.72 1.47 1.35L5.41 20z\"/>\n",
              "  </svg>\n",
              "      </button>\n",
              "      \n",
              "  <style>\n",
              "    .colab-df-container {\n",
              "      display:flex;\n",
              "      flex-wrap:wrap;\n",
              "      gap: 12px;\n",
              "    }\n",
              "\n",
              "    .colab-df-convert {\n",
              "      background-color: #E8F0FE;\n",
              "      border: none;\n",
              "      border-radius: 50%;\n",
              "      cursor: pointer;\n",
              "      display: none;\n",
              "      fill: #1967D2;\n",
              "      height: 32px;\n",
              "      padding: 0 0 0 0;\n",
              "      width: 32px;\n",
              "    }\n",
              "\n",
              "    .colab-df-convert:hover {\n",
              "      background-color: #E2EBFA;\n",
              "      box-shadow: 0px 1px 2px rgba(60, 64, 67, 0.3), 0px 1px 3px 1px rgba(60, 64, 67, 0.15);\n",
              "      fill: #174EA6;\n",
              "    }\n",
              "\n",
              "    [theme=dark] .colab-df-convert {\n",
              "      background-color: #3B4455;\n",
              "      fill: #D2E3FC;\n",
              "    }\n",
              "\n",
              "    [theme=dark] .colab-df-convert:hover {\n",
              "      background-color: #434B5C;\n",
              "      box-shadow: 0px 1px 3px 1px rgba(0, 0, 0, 0.15);\n",
              "      filter: drop-shadow(0px 1px 2px rgba(0, 0, 0, 0.3));\n",
              "      fill: #FFFFFF;\n",
              "    }\n",
              "  </style>\n",
              "\n",
              "      <script>\n",
              "        const buttonEl =\n",
              "          document.querySelector('#df-57ba0430-2276-4371-a330-e373560fb989 button.colab-df-convert');\n",
              "        buttonEl.style.display =\n",
              "          google.colab.kernel.accessAllowed ? 'block' : 'none';\n",
              "\n",
              "        async function convertToInteractive(key) {\n",
              "          const element = document.querySelector('#df-57ba0430-2276-4371-a330-e373560fb989');\n",
              "          const dataTable =\n",
              "            await google.colab.kernel.invokeFunction('convertToInteractive',\n",
              "                                                     [key], {});\n",
              "          if (!dataTable) return;\n",
              "\n",
              "          const docLinkHtml = 'Like what you see? Visit the ' +\n",
              "            '<a target=\"_blank\" href=https://colab.research.google.com/notebooks/data_table.ipynb>data table notebook</a>'\n",
              "            + ' to learn more about interactive tables.';\n",
              "          element.innerHTML = '';\n",
              "          dataTable['output_type'] = 'display_data';\n",
              "          await google.colab.output.renderOutput(dataTable, element);\n",
              "          const docLink = document.createElement('div');\n",
              "          docLink.innerHTML = docLinkHtml;\n",
              "          element.appendChild(docLink);\n",
              "        }\n",
              "      </script>\n",
              "    </div>\n",
              "  </div>\n",
              "  "
            ]
          },
          "metadata": {},
          "execution_count": 5
        }
      ]
    },
    {
      "cell_type": "code",
      "metadata": {
        "id": "fabulous-peripheral",
        "colab": {
          "base_uri": "https://localhost:8080/"
        },
        "outputId": "01df5bc2-df80-44f6-a76c-578d17df6935"
      },
      "source": [
        "# split data\n",
        "train_df, valid_df = train_test_split(df, train_size=0.8, random_state=42)\n",
        "print(f\"train_size: {train_df.size}\")\n",
        "print(f\"validation_size: {valid_df.size}\")"
      ],
      "id": "fabulous-peripheral",
      "execution_count": 6,
      "outputs": [
        {
          "output_type": "stream",
          "name": "stdout",
          "text": [
            "train_size: 464\n",
            "validation_size: 116\n"
          ]
        }
      ]
    },
    {
      "cell_type": "code",
      "metadata": {
        "id": "possible-cinema"
      },
      "source": [
        "# Data Augmentation\n",
        "IMG_SIZE = 320\n",
        "def get_train_augs():\n",
        "  return A.Compose([\n",
        "                    A.Resize(IMG_SIZE,IMG_SIZE),\n",
        "                    A.HorizontalFlip(p=0.5),\n",
        "                    A.VerticalFlip(p=0.5)\n",
        "  ])\n",
        "\n",
        "def get_valid_augs():\n",
        "  return A.Compose([\n",
        "                    A.Resize(IMG_SIZE,IMG_SIZE)\n",
        "  ])"
      ],
      "id": "possible-cinema",
      "execution_count": 7,
      "outputs": []
    },
    {
      "cell_type": "code",
      "metadata": {
        "id": "rubber-humanitarian"
      },
      "source": [
        "# Create Custom Dataset \n",
        "class SegmentationDataset(Dataset):\n",
        "\n",
        "  def __init__(self,df, augmentations):\n",
        "    self.df = df\n",
        "    self.augmentations = augmentations\n",
        "  \n",
        "  def __len__(self):\n",
        "    return len(self.df)\n",
        "\n",
        "  def __getitem__(self,idx):\n",
        "    row = self.df.iloc[idx]\n",
        "    image_path = row.images\n",
        "    mask_path = row.masks\n",
        "\n",
        "    # load image from the specific path\n",
        "    image = cv2.imread(image_path)\n",
        "    image = cv2.cvtColor(image, cv2.COLOR_BGR2RGB)\n",
        "\n",
        "    mask = cv2.imread(mask_path , cv2.IMREAD_GRAYSCALE)\n",
        "    mask = np.expand_dims(mask, axis= -1)\n",
        "\n",
        "    if self.augmentations != None:\n",
        "      data = self.augmentations(image = image , mask = mask)\n",
        "      image = data['image']\n",
        "      mask = data['mask']\n",
        "\n",
        "    image = np.transpose(image, (2,0,1)).astype(np.float32)\n",
        "    mask = np.transpose(mask, (2,0,1)).astype(np.float32)\n",
        "\n",
        "    image = torch.Tensor(image) / 255.0\n",
        "    mask = torch.round(torch.Tensor(mask)  / 255.0 )\n",
        "\n",
        "    return image,mask"
      ],
      "id": "rubber-humanitarian",
      "execution_count": 8,
      "outputs": []
    },
    {
      "cell_type": "code",
      "metadata": {
        "id": "looking-lightning"
      },
      "source": [
        "trainset = SegmentationDataset(train_df , get_train_augs())\n",
        "validset = SegmentationDataset(valid_df , get_valid_augs())"
      ],
      "id": "looking-lightning",
      "execution_count": 9,
      "outputs": []
    },
    {
      "cell_type": "code",
      "metadata": {
        "id": "gothic-extreme",
        "colab": {
          "base_uri": "https://localhost:8080/"
        },
        "outputId": "304e17fb-0a2a-488e-9fda-e899e1417129"
      },
      "source": [
        "print(f\"Size of Trainset : {len(trainset)}\")\n",
        "print(f\"Size of Validset : {len(validset)}\")"
      ],
      "id": "gothic-extreme",
      "execution_count": 10,
      "outputs": [
        {
          "output_type": "stream",
          "name": "stdout",
          "text": [
            "Size of Trainset : 232\n",
            "Size of Validset : 58\n"
          ]
        }
      ]
    },
    {
      "cell_type": "code",
      "metadata": {
        "id": "lesbian-terror"
      },
      "source": [
        "# Parameter\n",
        "BATCH_SIZE = 16\n",
        "# Load dataset into batches\n",
        "trainLoader = DataLoader(trainset, batch_size = BATCH_SIZE, shuffle = True)\n",
        "validLoader = DataLoader(validset, batch_size = BATCH_SIZE, shuffle = True)"
      ],
      "id": "lesbian-terror",
      "execution_count": 11,
      "outputs": []
    },
    {
      "cell_type": "code",
      "metadata": {
        "id": "saved-blend",
        "colab": {
          "base_uri": "https://localhost:8080/"
        },
        "outputId": "35b5ba20-c221-437a-b7df-8532db4e34fb"
      },
      "source": [
        "print(f\"total of batches in trainLoader : {len(trainLoader)}\")\n",
        "print(f\"total of batches in trainLoader : {len(validLoader)}\")"
      ],
      "id": "saved-blend",
      "execution_count": 12,
      "outputs": [
        {
          "output_type": "stream",
          "name": "stdout",
          "text": [
            "total of batches in trainLoader : 15\n",
            "total of batches in trainLoader : 4\n"
          ]
        }
      ]
    },
    {
      "cell_type": "code",
      "metadata": {
        "id": "heard-nightmare",
        "colab": {
          "base_uri": "https://localhost:8080/"
        },
        "outputId": "fc39f5a2-aff7-43f8-ec22-f8be81085cd6"
      },
      "source": [
        "for image, mask in trainLoader:\n",
        "  break\n",
        "\n",
        "print(f\"one batsh image shape: {image.shape}\")\n",
        "print(f\"one batsh image shape: {mask.shape}\")"
      ],
      "id": "heard-nightmare",
      "execution_count": 13,
      "outputs": [
        {
          "output_type": "stream",
          "name": "stdout",
          "text": [
            "one batsh image shape: torch.Size([16, 3, 320, 320])\n",
            "one batsh image shape: torch.Size([16, 1, 320, 320])\n"
          ]
        }
      ]
    },
    {
      "cell_type": "markdown",
      "metadata": {
        "id": "fiscal-genome"
      },
      "source": [
        "# Part 2: Create A Segmentation Model"
      ],
      "id": "fiscal-genome"
    },
    {
      "cell_type": "code",
      "metadata": {
        "id": "protected-emphasis"
      },
      "source": [
        "from torch import nn\n",
        "import segmentation_models_pytorch as smp \n",
        "from segmentation_models_pytorch.losses import DiceLoss"
      ],
      "id": "protected-emphasis",
      "execution_count": 14,
      "outputs": []
    },
    {
      "cell_type": "code",
      "metadata": {
        "id": "stopped-treaty"
      },
      "source": [
        "\n",
        "ENCODER = 'timm-efficientnet-b0'\n",
        "WEIGHTS  = 'imagenet'\n",
        "\n",
        "class SegmentationModel(nn.Module):\n",
        "\n",
        "  def __init__(self):\n",
        "    super(SegmentationModel, self).__init__()\n",
        "\n",
        "    self.arc = smp.Unet(\n",
        "        encoder_name = ENCODER,\n",
        "        encoder_weights = WEIGHTS,\n",
        "        in_channels = 3,\n",
        "        classes = 1,\n",
        "        activation = None\n",
        "    )\n",
        "\n",
        "  def forward(self, images,masks=None):\n",
        "    logits = self.arc(images)\n",
        "\n",
        "    if masks != None: \n",
        "      loss1 = DiceLoss(mode='binary')(logits,masks)\n",
        "      loss2 = nn.BCEWithLogitsLoss()(logits,masks)\n",
        "      return logits,loss1+loss2\n",
        "\n",
        "    return logits"
      ],
      "id": "stopped-treaty",
      "execution_count": 15,
      "outputs": []
    },
    {
      "cell_type": "code",
      "metadata": {
        "id": "christian-settlement",
        "colab": {
          "base_uri": "https://localhost:8080/",
          "height": 86,
          "referenced_widgets": [
            "2400424d21a547cf955287c961dfaf52",
            "0336869d768d45619fdee19ae3dd3efc",
            "1516d34095944fa2937778f032bab468",
            "acb8eb37802d4dd38321061ed517a12f",
            "e6f605ce33b74aeab8b5d5a344c1695b",
            "d31adb9c07494901ac432ca23743be9d",
            "91aa56b23d5948c18dd71a081493f227",
            "92b2582cf9fd409dbbaa0c6ce429ee70",
            "60848e03d11d4401a660b78382554678",
            "59e09723f4d8407790b61fcc457cb26a",
            "64fc4ae9616544dda4a04b0918a80baf"
          ]
        },
        "outputId": "385ac0e5-24d8-4c64-d73a-19472900fee0"
      },
      "source": [
        "DEVICE = 'cuda'\n",
        "model = SegmentationModel()\n",
        "model.to(DEVICE);"
      ],
      "id": "christian-settlement",
      "execution_count": 16,
      "outputs": [
        {
          "output_type": "stream",
          "name": "stderr",
          "text": [
            "Downloading: \"https://github.com/rwightman/pytorch-image-models/releases/download/v0.1-weights/tf_efficientnet_b0_aa-827b6e33.pth\" to /root/.cache/torch/hub/checkpoints/tf_efficientnet_b0_aa-827b6e33.pth\n"
          ]
        },
        {
          "output_type": "display_data",
          "data": {
            "text/plain": [
              "  0%|          | 0.00/20.4M [00:00<?, ?B/s]"
            ],
            "application/vnd.jupyter.widget-view+json": {
              "version_major": 2,
              "version_minor": 0,
              "model_id": "2400424d21a547cf955287c961dfaf52"
            }
          },
          "metadata": {}
        }
      ]
    },
    {
      "cell_type": "markdown",
      "metadata": {
        "id": "threaded-bracket"
      },
      "source": [
        "# part 3: Create Train and Validation Function "
      ],
      "id": "threaded-bracket"
    },
    {
      "cell_type": "code",
      "metadata": {
        "id": "alone-voltage"
      },
      "source": [
        "def train_fn(data_loader, model, optimizer):\n",
        "  model.train()\n",
        "  total_loss =0.0\n",
        "  for images,masks in tqdm(data_loader):\n",
        "    images = images.to(DEVICE)\n",
        "    masks = masks.to(DEVICE)\n",
        "\n",
        "    optimizer.zero_grad()\n",
        "    logits, loss = model(images,masks)\n",
        "    loss.backward()\n",
        "    optimizer.step()\n",
        "\n",
        "    total_loss += loss.item()\n",
        "\n",
        "  return total_loss / len(data_loader)"
      ],
      "id": "alone-voltage",
      "execution_count": 17,
      "outputs": []
    },
    {
      "cell_type": "code",
      "metadata": {
        "id": "whole-musician"
      },
      "source": [
        "def eval_fn(data_loader, model):\n",
        "  model.eval()\n",
        "  total_loss =0.0\n",
        "\n",
        "  with torch.no_grad():\n",
        "    for images,masks in tqdm(data_loader):\n",
        "      images = images.to(DEVICE)\n",
        "      masks = masks.to(DEVICE)\n",
        "\n",
        "      logits, loss = model(images,masks)\n",
        "\n",
        "      total_loss += loss.item()\n",
        "\n",
        "  return total_loss / len(data_loader)"
      ],
      "id": "whole-musician",
      "execution_count": 18,
      "outputs": []
    },
    {
      "cell_type": "markdown",
      "metadata": {
        "id": "primary-variance"
      },
      "source": [
        "# Part 4: Train model"
      ],
      "id": "primary-variance"
    },
    {
      "cell_type": "code",
      "source": [
        "# Choose parameter values\n",
        "EPOCHS = 50\n",
        "LR = 0.0001\n",
        "# Choose optimizer \n",
        "optimizer = torch.optim.Adam(model.parameters(), lr = LR)"
      ],
      "metadata": {
        "id": "-CZtGw2vTgIB"
      },
      "id": "-CZtGw2vTgIB",
      "execution_count": 19,
      "outputs": []
    },
    {
      "cell_type": "code",
      "metadata": {
        "id": "mounted-sword",
        "colab": {
          "base_uri": "https://localhost:8080/"
        },
        "outputId": "f01b5bc7-7346-4a8e-c1d8-2b81fa668251"
      },
      "source": [
        "best_valid_loss = np.Inf\n",
        "\n",
        "for i in  range(EPOCHS):\n",
        "  train_loss = train_fn(trainLoader,model,optimizer)\n",
        "  valid_loss = eval_fn(validLoader,model)\n",
        "\n",
        "  if valid_loss < best_valid_loss:\n",
        "    torch.save(model.state_dict(), 'best_model.pt')\n",
        "    print(\"saved_model\")\n",
        "    best_valid_loss = valid_loss\n",
        "\n",
        "  print(f\"Epoch: {i+1} Train_loss: {train_loss} valid_loss: {valid_loss}\")"
      ],
      "id": "mounted-sword",
      "execution_count": 20,
      "outputs": [
        {
          "output_type": "stream",
          "name": "stderr",
          "text": [
            "100%|██████████| 15/15 [00:14<00:00,  1.04it/s]\n",
            "100%|██████████| 4/4 [00:01<00:00,  2.72it/s]\n"
          ]
        },
        {
          "output_type": "stream",
          "name": "stdout",
          "text": [
            "saved_model\n",
            "Epoch: 1 Train_loss: 1.4072344859441122 valid_loss: 1.187157779932022\n"
          ]
        },
        {
          "output_type": "stream",
          "name": "stderr",
          "text": [
            "100%|██████████| 15/15 [00:14<00:00,  1.06it/s]\n",
            "100%|██████████| 4/4 [00:01<00:00,  2.76it/s]\n"
          ]
        },
        {
          "output_type": "stream",
          "name": "stdout",
          "text": [
            "saved_model\n",
            "Epoch: 2 Train_loss: 1.164450208346049 valid_loss: 0.9658973067998886\n"
          ]
        },
        {
          "output_type": "stream",
          "name": "stderr",
          "text": [
            "100%|██████████| 15/15 [00:14<00:00,  1.05it/s]\n",
            "100%|██████████| 4/4 [00:01<00:00,  2.74it/s]\n"
          ]
        },
        {
          "output_type": "stream",
          "name": "stdout",
          "text": [
            "saved_model\n",
            "Epoch: 3 Train_loss: 0.9478026747703552 valid_loss: 0.8618563264608383\n"
          ]
        },
        {
          "output_type": "stream",
          "name": "stderr",
          "text": [
            "100%|██████████| 15/15 [00:14<00:00,  1.05it/s]\n",
            "100%|██████████| 4/4 [00:01<00:00,  2.72it/s]\n"
          ]
        },
        {
          "output_type": "stream",
          "name": "stdout",
          "text": [
            "saved_model\n",
            "Epoch: 4 Train_loss: 0.7742010116577148 valid_loss: 0.7197976857423782\n"
          ]
        },
        {
          "output_type": "stream",
          "name": "stderr",
          "text": [
            "100%|██████████| 15/15 [00:14<00:00,  1.04it/s]\n",
            "100%|██████████| 4/4 [00:01<00:00,  2.71it/s]\n"
          ]
        },
        {
          "output_type": "stream",
          "name": "stdout",
          "text": [
            "saved_model\n",
            "Epoch: 5 Train_loss: 0.6646114667256673 valid_loss: 0.6283830106258392\n"
          ]
        },
        {
          "output_type": "stream",
          "name": "stderr",
          "text": [
            "100%|██████████| 15/15 [00:14<00:00,  1.04it/s]\n",
            "100%|██████████| 4/4 [00:01<00:00,  2.71it/s]\n"
          ]
        },
        {
          "output_type": "stream",
          "name": "stdout",
          "text": [
            "saved_model\n",
            "Epoch: 6 Train_loss: 0.6058479030927022 valid_loss: 0.5626124441623688\n"
          ]
        },
        {
          "output_type": "stream",
          "name": "stderr",
          "text": [
            "100%|██████████| 15/15 [00:14<00:00,  1.04it/s]\n",
            "100%|██████████| 4/4 [00:01<00:00,  2.68it/s]\n"
          ]
        },
        {
          "output_type": "stream",
          "name": "stdout",
          "text": [
            "saved_model\n",
            "Epoch: 7 Train_loss: 0.541048002243042 valid_loss: 0.5226663500070572\n"
          ]
        },
        {
          "output_type": "stream",
          "name": "stderr",
          "text": [
            "100%|██████████| 15/15 [00:14<00:00,  1.04it/s]\n",
            "100%|██████████| 4/4 [00:01<00:00,  2.70it/s]\n"
          ]
        },
        {
          "output_type": "stream",
          "name": "stdout",
          "text": [
            "saved_model\n",
            "Epoch: 8 Train_loss: 0.5036644498507182 valid_loss: 0.4849499464035034\n"
          ]
        },
        {
          "output_type": "stream",
          "name": "stderr",
          "text": [
            "100%|██████████| 15/15 [00:14<00:00,  1.04it/s]\n",
            "100%|██████████| 4/4 [00:01<00:00,  2.71it/s]\n"
          ]
        },
        {
          "output_type": "stream",
          "name": "stdout",
          "text": [
            "saved_model\n",
            "Epoch: 9 Train_loss: 0.46869125763575237 valid_loss: 0.471141017973423\n"
          ]
        },
        {
          "output_type": "stream",
          "name": "stderr",
          "text": [
            "100%|██████████| 15/15 [00:14<00:00,  1.04it/s]\n",
            "100%|██████████| 4/4 [00:01<00:00,  2.71it/s]\n"
          ]
        },
        {
          "output_type": "stream",
          "name": "stdout",
          "text": [
            "saved_model\n",
            "Epoch: 10 Train_loss: 0.44151588280995685 valid_loss: 0.4424136281013489\n"
          ]
        },
        {
          "output_type": "stream",
          "name": "stderr",
          "text": [
            "100%|██████████| 15/15 [00:14<00:00,  1.03it/s]\n",
            "100%|██████████| 4/4 [00:01<00:00,  2.67it/s]\n"
          ]
        },
        {
          "output_type": "stream",
          "name": "stdout",
          "text": [
            "saved_model\n",
            "Epoch: 11 Train_loss: 0.4188151776790619 valid_loss: 0.4249552860856056\n"
          ]
        },
        {
          "output_type": "stream",
          "name": "stderr",
          "text": [
            "100%|██████████| 15/15 [00:14<00:00,  1.03it/s]\n",
            "100%|██████████| 4/4 [00:01<00:00,  2.69it/s]\n"
          ]
        },
        {
          "output_type": "stream",
          "name": "stdout",
          "text": [
            "Epoch: 12 Train_loss: 0.40347556471824647 valid_loss: 0.4297572672367096\n"
          ]
        },
        {
          "output_type": "stream",
          "name": "stderr",
          "text": [
            "100%|██████████| 15/15 [00:14<00:00,  1.04it/s]\n",
            "100%|██████████| 4/4 [00:01<00:00,  2.65it/s]\n"
          ]
        },
        {
          "output_type": "stream",
          "name": "stdout",
          "text": [
            "saved_model\n",
            "Epoch: 13 Train_loss: 0.37578702767690025 valid_loss: 0.3896346017718315\n"
          ]
        },
        {
          "output_type": "stream",
          "name": "stderr",
          "text": [
            "100%|██████████| 15/15 [00:14<00:00,  1.04it/s]\n",
            "100%|██████████| 4/4 [00:01<00:00,  2.69it/s]\n"
          ]
        },
        {
          "output_type": "stream",
          "name": "stdout",
          "text": [
            "Epoch: 14 Train_loss: 0.3864315112431844 valid_loss: 0.39362306147813797\n"
          ]
        },
        {
          "output_type": "stream",
          "name": "stderr",
          "text": [
            "100%|██████████| 15/15 [00:14<00:00,  1.04it/s]\n",
            "100%|██████████| 4/4 [00:01<00:00,  2.70it/s]\n"
          ]
        },
        {
          "output_type": "stream",
          "name": "stdout",
          "text": [
            "saved_model\n",
            "Epoch: 15 Train_loss: 0.34602636893590294 valid_loss: 0.37714406847953796\n"
          ]
        },
        {
          "output_type": "stream",
          "name": "stderr",
          "text": [
            "100%|██████████| 15/15 [00:14<00:00,  1.04it/s]\n",
            "100%|██████████| 4/4 [00:01<00:00,  2.70it/s]\n"
          ]
        },
        {
          "output_type": "stream",
          "name": "stdout",
          "text": [
            "saved_model\n",
            "Epoch: 16 Train_loss: 0.33521647850672404 valid_loss: 0.35840004682540894\n"
          ]
        },
        {
          "output_type": "stream",
          "name": "stderr",
          "text": [
            "100%|██████████| 15/15 [00:14<00:00,  1.03it/s]\n",
            "100%|██████████| 4/4 [00:01<00:00,  2.66it/s]\n"
          ]
        },
        {
          "output_type": "stream",
          "name": "stdout",
          "text": [
            "saved_model\n",
            "Epoch: 17 Train_loss: 0.3164891461531321 valid_loss: 0.3490113392472267\n"
          ]
        },
        {
          "output_type": "stream",
          "name": "stderr",
          "text": [
            "100%|██████████| 15/15 [00:14<00:00,  1.04it/s]\n",
            "100%|██████████| 4/4 [00:01<00:00,  2.71it/s]\n"
          ]
        },
        {
          "output_type": "stream",
          "name": "stdout",
          "text": [
            "saved_model\n",
            "Epoch: 18 Train_loss: 0.31442628502845765 valid_loss: 0.3336183652281761\n"
          ]
        },
        {
          "output_type": "stream",
          "name": "stderr",
          "text": [
            "100%|██████████| 15/15 [00:14<00:00,  1.03it/s]\n",
            "100%|██████████| 4/4 [00:01<00:00,  2.69it/s]\n"
          ]
        },
        {
          "output_type": "stream",
          "name": "stdout",
          "text": [
            "saved_model\n",
            "Epoch: 19 Train_loss: 0.29971932868162793 valid_loss: 0.3216875344514847\n"
          ]
        },
        {
          "output_type": "stream",
          "name": "stderr",
          "text": [
            "100%|██████████| 15/15 [00:14<00:00,  1.03it/s]\n",
            "100%|██████████| 4/4 [00:01<00:00,  2.71it/s]\n"
          ]
        },
        {
          "output_type": "stream",
          "name": "stdout",
          "text": [
            "saved_model\n",
            "Epoch: 20 Train_loss: 0.2807998239994049 valid_loss: 0.3009907305240631\n"
          ]
        },
        {
          "output_type": "stream",
          "name": "stderr",
          "text": [
            "100%|██████████| 15/15 [00:14<00:00,  1.03it/s]\n",
            "100%|██████████| 4/4 [00:01<00:00,  2.70it/s]\n"
          ]
        },
        {
          "output_type": "stream",
          "name": "stdout",
          "text": [
            "Epoch: 21 Train_loss: 0.26840483844280244 valid_loss: 0.30584587901830673\n"
          ]
        },
        {
          "output_type": "stream",
          "name": "stderr",
          "text": [
            "100%|██████████| 15/15 [00:14<00:00,  1.03it/s]\n",
            "100%|██████████| 4/4 [00:01<00:00,  2.70it/s]\n"
          ]
        },
        {
          "output_type": "stream",
          "name": "stdout",
          "text": [
            "saved_model\n",
            "Epoch: 22 Train_loss: 0.25853075087070465 valid_loss: 0.2984979972243309\n"
          ]
        },
        {
          "output_type": "stream",
          "name": "stderr",
          "text": [
            "100%|██████████| 15/15 [00:14<00:00,  1.04it/s]\n",
            "100%|██████████| 4/4 [00:01<00:00,  2.71it/s]\n"
          ]
        },
        {
          "output_type": "stream",
          "name": "stdout",
          "text": [
            "saved_model\n",
            "Epoch: 23 Train_loss: 0.2595150023698807 valid_loss: 0.29749926924705505\n"
          ]
        },
        {
          "output_type": "stream",
          "name": "stderr",
          "text": [
            "100%|██████████| 15/15 [00:14<00:00,  1.04it/s]\n",
            "100%|██████████| 4/4 [00:01<00:00,  2.68it/s]\n"
          ]
        },
        {
          "output_type": "stream",
          "name": "stdout",
          "text": [
            "saved_model\n",
            "Epoch: 24 Train_loss: 0.24143803417682647 valid_loss: 0.2739294022321701\n"
          ]
        },
        {
          "output_type": "stream",
          "name": "stderr",
          "text": [
            "100%|██████████| 15/15 [00:14<00:00,  1.03it/s]\n",
            "100%|██████████| 4/4 [00:01<00:00,  2.72it/s]\n"
          ]
        },
        {
          "output_type": "stream",
          "name": "stdout",
          "text": [
            "saved_model\n",
            "Epoch: 25 Train_loss: 0.22851121723651885 valid_loss: 0.2677716352045536\n"
          ]
        },
        {
          "output_type": "stream",
          "name": "stderr",
          "text": [
            "100%|██████████| 15/15 [00:14<00:00,  1.04it/s]\n",
            "100%|██████████| 4/4 [00:01<00:00,  2.74it/s]\n"
          ]
        },
        {
          "output_type": "stream",
          "name": "stdout",
          "text": [
            "saved_model\n",
            "Epoch: 26 Train_loss: 0.22044393022855122 valid_loss: 0.25777147710323334\n"
          ]
        },
        {
          "output_type": "stream",
          "name": "stderr",
          "text": [
            "100%|██████████| 15/15 [00:14<00:00,  1.04it/s]\n",
            "100%|██████████| 4/4 [00:01<00:00,  2.70it/s]\n"
          ]
        },
        {
          "output_type": "stream",
          "name": "stdout",
          "text": [
            "saved_model\n",
            "Epoch: 27 Train_loss: 0.2143094539642334 valid_loss: 0.25734852254390717\n"
          ]
        },
        {
          "output_type": "stream",
          "name": "stderr",
          "text": [
            "100%|██████████| 15/15 [00:14<00:00,  1.04it/s]\n",
            "100%|██████████| 4/4 [00:01<00:00,  2.73it/s]\n"
          ]
        },
        {
          "output_type": "stream",
          "name": "stdout",
          "text": [
            "saved_model\n",
            "Epoch: 28 Train_loss: 0.19998449484507244 valid_loss: 0.25721723586320877\n"
          ]
        },
        {
          "output_type": "stream",
          "name": "stderr",
          "text": [
            "100%|██████████| 15/15 [00:14<00:00,  1.03it/s]\n",
            "100%|██████████| 4/4 [00:01<00:00,  2.67it/s]\n"
          ]
        },
        {
          "output_type": "stream",
          "name": "stdout",
          "text": [
            "saved_model\n",
            "Epoch: 29 Train_loss: 0.19218789835770925 valid_loss: 0.24938587471842766\n"
          ]
        },
        {
          "output_type": "stream",
          "name": "stderr",
          "text": [
            "100%|██████████| 15/15 [00:14<00:00,  1.03it/s]\n",
            "100%|██████████| 4/4 [00:01<00:00,  2.72it/s]\n"
          ]
        },
        {
          "output_type": "stream",
          "name": "stdout",
          "text": [
            "saved_model\n",
            "Epoch: 30 Train_loss: 0.18615397016207377 valid_loss: 0.24050812795758247\n"
          ]
        },
        {
          "output_type": "stream",
          "name": "stderr",
          "text": [
            "100%|██████████| 15/15 [00:14<00:00,  1.04it/s]\n",
            "100%|██████████| 4/4 [00:01<00:00,  2.69it/s]\n"
          ]
        },
        {
          "output_type": "stream",
          "name": "stdout",
          "text": [
            "saved_model\n",
            "Epoch: 31 Train_loss: 0.1953537533680598 valid_loss: 0.23011531680822372\n"
          ]
        },
        {
          "output_type": "stream",
          "name": "stderr",
          "text": [
            "100%|██████████| 15/15 [00:14<00:00,  1.04it/s]\n",
            "100%|██████████| 4/4 [00:01<00:00,  2.69it/s]\n"
          ]
        },
        {
          "output_type": "stream",
          "name": "stdout",
          "text": [
            "saved_model\n",
            "Epoch: 32 Train_loss: 0.17591087420781454 valid_loss: 0.21966658160090446\n"
          ]
        },
        {
          "output_type": "stream",
          "name": "stderr",
          "text": [
            "100%|██████████| 15/15 [00:14<00:00,  1.03it/s]\n",
            "100%|██████████| 4/4 [00:01<00:00,  2.69it/s]\n"
          ]
        },
        {
          "output_type": "stream",
          "name": "stdout",
          "text": [
            "saved_model\n",
            "Epoch: 33 Train_loss: 0.16540266474088033 valid_loss: 0.2155497968196869\n"
          ]
        },
        {
          "output_type": "stream",
          "name": "stderr",
          "text": [
            "100%|██████████| 15/15 [00:14<00:00,  1.04it/s]\n",
            "100%|██████████| 4/4 [00:01<00:00,  2.71it/s]\n"
          ]
        },
        {
          "output_type": "stream",
          "name": "stdout",
          "text": [
            "saved_model\n",
            "Epoch: 34 Train_loss: 0.16094670593738555 valid_loss: 0.21526633203029633\n"
          ]
        },
        {
          "output_type": "stream",
          "name": "stderr",
          "text": [
            "100%|██████████| 15/15 [00:14<00:00,  1.03it/s]\n",
            "100%|██████████| 4/4 [00:01<00:00,  2.74it/s]\n"
          ]
        },
        {
          "output_type": "stream",
          "name": "stdout",
          "text": [
            "saved_model\n",
            "Epoch: 35 Train_loss: 0.15713121344645817 valid_loss: 0.20995181053876877\n"
          ]
        },
        {
          "output_type": "stream",
          "name": "stderr",
          "text": [
            "100%|██████████| 15/15 [00:14<00:00,  1.03it/s]\n",
            "100%|██████████| 4/4 [00:01<00:00,  2.74it/s]\n"
          ]
        },
        {
          "output_type": "stream",
          "name": "stdout",
          "text": [
            "saved_model\n",
            "Epoch: 36 Train_loss: 0.14783530831336975 valid_loss: 0.20961925014853477\n"
          ]
        },
        {
          "output_type": "stream",
          "name": "stderr",
          "text": [
            "100%|██████████| 15/15 [00:14<00:00,  1.03it/s]\n",
            "100%|██████████| 4/4 [00:01<00:00,  2.73it/s]\n"
          ]
        },
        {
          "output_type": "stream",
          "name": "stdout",
          "text": [
            "saved_model\n",
            "Epoch: 37 Train_loss: 0.147890571753184 valid_loss: 0.19585436210036278\n"
          ]
        },
        {
          "output_type": "stream",
          "name": "stderr",
          "text": [
            "100%|██████████| 15/15 [00:14<00:00,  1.04it/s]\n",
            "100%|██████████| 4/4 [00:01<00:00,  2.72it/s]\n"
          ]
        },
        {
          "output_type": "stream",
          "name": "stdout",
          "text": [
            "saved_model\n",
            "Epoch: 38 Train_loss: 0.13977295408646265 valid_loss: 0.1946418322622776\n"
          ]
        },
        {
          "output_type": "stream",
          "name": "stderr",
          "text": [
            "100%|██████████| 15/15 [00:14<00:00,  1.04it/s]\n",
            "100%|██████████| 4/4 [00:01<00:00,  2.74it/s]\n"
          ]
        },
        {
          "output_type": "stream",
          "name": "stdout",
          "text": [
            "saved_model\n",
            "Epoch: 39 Train_loss: 0.13312486310799918 valid_loss: 0.19186123833060265\n"
          ]
        },
        {
          "output_type": "stream",
          "name": "stderr",
          "text": [
            "100%|██████████| 15/15 [00:14<00:00,  1.03it/s]\n",
            "100%|██████████| 4/4 [00:01<00:00,  2.70it/s]\n"
          ]
        },
        {
          "output_type": "stream",
          "name": "stdout",
          "text": [
            "saved_model\n",
            "Epoch: 40 Train_loss: 0.13482109159231187 valid_loss: 0.183576337993145\n"
          ]
        },
        {
          "output_type": "stream",
          "name": "stderr",
          "text": [
            "100%|██████████| 15/15 [00:14<00:00,  1.03it/s]\n",
            "100%|██████████| 4/4 [00:01<00:00,  2.72it/s]\n"
          ]
        },
        {
          "output_type": "stream",
          "name": "stdout",
          "text": [
            "saved_model\n",
            "Epoch: 41 Train_loss: 0.13260444353024164 valid_loss: 0.18104217574000359\n"
          ]
        },
        {
          "output_type": "stream",
          "name": "stderr",
          "text": [
            "100%|██████████| 15/15 [00:14<00:00,  1.04it/s]\n",
            "100%|██████████| 4/4 [00:01<00:00,  2.71it/s]\n"
          ]
        },
        {
          "output_type": "stream",
          "name": "stdout",
          "text": [
            "Epoch: 42 Train_loss: 0.1265221228202184 valid_loss: 0.18281935527920723\n"
          ]
        },
        {
          "output_type": "stream",
          "name": "stderr",
          "text": [
            "100%|██████████| 15/15 [00:14<00:00,  1.03it/s]\n",
            "100%|██████████| 4/4 [00:01<00:00,  2.74it/s]\n"
          ]
        },
        {
          "output_type": "stream",
          "name": "stdout",
          "text": [
            "saved_model\n",
            "Epoch: 43 Train_loss: 0.12634508858124416 valid_loss: 0.1720694787800312\n"
          ]
        },
        {
          "output_type": "stream",
          "name": "stderr",
          "text": [
            "100%|██████████| 15/15 [00:14<00:00,  1.03it/s]\n",
            "100%|██████████| 4/4 [00:01<00:00,  2.74it/s]\n"
          ]
        },
        {
          "output_type": "stream",
          "name": "stdout",
          "text": [
            "Epoch: 44 Train_loss: 0.11856687764326732 valid_loss: 0.1749403066933155\n"
          ]
        },
        {
          "output_type": "stream",
          "name": "stderr",
          "text": [
            "100%|██████████| 15/15 [00:14<00:00,  1.03it/s]\n",
            "100%|██████████| 4/4 [00:01<00:00,  2.68it/s]\n"
          ]
        },
        {
          "output_type": "stream",
          "name": "stdout",
          "text": [
            "saved_model\n",
            "Epoch: 45 Train_loss: 0.11700140088796615 valid_loss: 0.16909613460302353\n"
          ]
        },
        {
          "output_type": "stream",
          "name": "stderr",
          "text": [
            "100%|██████████| 15/15 [00:14<00:00,  1.03it/s]\n",
            "100%|██████████| 4/4 [00:01<00:00,  2.74it/s]\n"
          ]
        },
        {
          "output_type": "stream",
          "name": "stdout",
          "text": [
            "Epoch: 46 Train_loss: 0.1212879036863645 valid_loss: 0.1789981573820114\n"
          ]
        },
        {
          "output_type": "stream",
          "name": "stderr",
          "text": [
            "100%|██████████| 15/15 [00:14<00:00,  1.04it/s]\n",
            "100%|██████████| 4/4 [00:01<00:00,  2.72it/s]\n"
          ]
        },
        {
          "output_type": "stream",
          "name": "stdout",
          "text": [
            "saved_model\n",
            "Epoch: 47 Train_loss: 0.11834902515014013 valid_loss: 0.16603541746735573\n"
          ]
        },
        {
          "output_type": "stream",
          "name": "stderr",
          "text": [
            "100%|██████████| 15/15 [00:14<00:00,  1.04it/s]\n",
            "100%|██████████| 4/4 [00:01<00:00,  2.69it/s]\n"
          ]
        },
        {
          "output_type": "stream",
          "name": "stdout",
          "text": [
            "Epoch: 48 Train_loss: 0.11201812575260799 valid_loss: 0.16920897364616394\n"
          ]
        },
        {
          "output_type": "stream",
          "name": "stderr",
          "text": [
            "100%|██████████| 15/15 [00:14<00:00,  1.03it/s]\n",
            "100%|██████████| 4/4 [00:01<00:00,  2.74it/s]\n"
          ]
        },
        {
          "output_type": "stream",
          "name": "stdout",
          "text": [
            "Epoch: 49 Train_loss: 0.1156774565577507 valid_loss: 0.1680176556110382\n"
          ]
        },
        {
          "output_type": "stream",
          "name": "stderr",
          "text": [
            "100%|██████████| 15/15 [00:14<00:00,  1.04it/s]\n",
            "100%|██████████| 4/4 [00:01<00:00,  2.71it/s]"
          ]
        },
        {
          "output_type": "stream",
          "name": "stdout",
          "text": [
            "saved_model\n",
            "Epoch: 50 Train_loss: 0.11336849182844162 valid_loss: 0.16520116478204727\n"
          ]
        },
        {
          "output_type": "stream",
          "name": "stderr",
          "text": [
            "\n"
          ]
        }
      ]
    },
    {
      "cell_type": "markdown",
      "metadata": {
        "id": "CVVzhk0HupfA"
      },
      "source": [
        "# Part 4:Test model with some images"
      ],
      "id": "CVVzhk0HupfA"
    },
    {
      "cell_type": "code",
      "metadata": {
        "id": "seventh-seating",
        "colab": {
          "base_uri": "https://localhost:8080/",
          "height": 337
        },
        "outputId": "5ca69fdc-f05b-4838-defa-fca939ac720f"
      },
      "source": [
        "# load the best model\n",
        "model.load_state_dict(torch.load(\"/content/best_model.pt\"))\n",
        "# load the testing image from the specific path\n",
        "image = cv2.imread(\"/content/Human-Image-Segmentation/Testing image.jpg\", cv2.IMREAD_UNCHANGED)\n",
        "cv2_imshow(cv2.resize(image, (IMG_SIZE,IMG_SIZE )))"
      ],
      "id": "seventh-seating",
      "execution_count": 32,
      "outputs": [
        {
          "output_type": "display_data",
          "data": {
            "text/plain": [
              "<PIL.Image.Image image mode=RGB size=320x320 at 0x7FDDA7CDD490>"
            ],
            "image/png": "[encoded data removed]"
          },
          "metadata": {}
        }
      ]
    },
    {
      "cell_type": "code",
      "source": [
        "def Test(model,image):\n",
        "  # resize and transform image\n",
        "  resized = cv2.resize(image, (IMG_SIZE,IMG_SIZE), interpolation = cv2.INTER_AREA)\n",
        "  image = cv2.cvtColor(resized, cv2.COLOR_BGR2RGB)\n",
        "  image = np.transpose(image, (2,0,1)).astype(np.float32)\n",
        "  image = torch.Tensor(image) / 255.0\n",
        "  # predict mask from the given image\n",
        "  logits_mask = model(image.to(DEVICE).unsqueeze(0)) # (C,H,W) -> (1,C,H,W)\n",
        "  pred_mask = torch.sigmoid(logits_mask)\n",
        "  pred_mask = (pred_mask > 0.5) * 1.0\n",
        "  pred_mask.detach().cpu().squeeze(0)\n",
        "  # show image and its predicted mask \n",
        "  helper.show_image(image, pred_mask.detach().cpu().squeeze(0))"
      ],
      "metadata": {
        "id": "9MQCqX9G8ssk"
      },
      "id": "9MQCqX9G8ssk",
      "execution_count": 28,
      "outputs": []
    },
    {
      "cell_type": "code",
      "source": [
        "Test(model,image)"
      ],
      "metadata": {
        "colab": {
          "base_uri": "https://localhost:8080/",
          "height": 318
        },
        "id": "r0b5tecDsnyV",
        "outputId": "17c2ae49-14ed-41e7-f719-eefef1612b80"
      },
      "id": "r0b5tecDsnyV",
      "execution_count": 29,
      "outputs": [
        {
          "output_type": "display_data",
          "data": {
            "text/plain": [
              "<Figure size 720x360 with 2 Axes>"
            ],
            "image/png": "[encoded data removed]"
          },
          "metadata": {
            "needs_background": "light"
          }
        }
      ]
    }
  ]
}